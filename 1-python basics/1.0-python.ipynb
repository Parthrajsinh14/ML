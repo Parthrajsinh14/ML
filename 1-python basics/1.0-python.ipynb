{
 "cells": [
  {
   "cell_type": "code",
   "execution_count": 1,
   "id": "b5ede4ef",
   "metadata": {},
   "outputs": [
    {
     "name": "stdout",
     "output_type": "stream",
     "text": [
      "John\n",
      "Doe\n"
     ]
    }
   ],
   "source": [
    "# single line comment\n",
    "# \" ... Multi-line comment ... \" only work in .py files, not in .ipynb files\n",
    "\n",
    "# Python is Case Sensitive\n",
    "name= \"John\"\n",
    "Name = \"Doe\"\n",
    "print(name)\n",
    "print(Name)"
   ]
  },
  {
   "cell_type": "code",
   "execution_count": 3,
   "id": "31f40779",
   "metadata": {},
   "outputs": [
    {
     "data": {
      "text/plain": [
       "int"
      ]
     },
     "execution_count": 3,
     "metadata": {},
     "output_type": "execute_result"
    }
   ],
   "source": [
    "#variable assignment\n",
    "age = 30 #age is an integer\n",
    "name = \"Alice\" #name is a string\n",
    "type(age) # Check the type of age variable\n"
   ]
  },
  {
   "cell_type": "code",
   "execution_count": 4,
   "id": "b50a81d7",
   "metadata": {},
   "outputs": [
    {
     "data": {
      "text/plain": [
       "str"
      ]
     },
     "execution_count": 4,
     "metadata": {},
     "output_type": "execute_result"
    }
   ],
   "source": [
    "type(name) # Check the type of name variable"
   ]
  },
  {
   "cell_type": "code",
   "execution_count": 5,
   "id": "a9aab8f7",
   "metadata": {},
   "outputs": [
    {
     "name": "stdout",
     "output_type": "stream",
     "text": [
      "<class 'int'>\n",
      "<class 'str'>\n"
     ]
    }
   ],
   "source": [
    "#type interfence\n",
    "variable = 10 # integer\n",
    "print(type(variable)) # Output: <class 'int'>\n",
    "variable = \"Hello\" # string   \n",
    "print(type(variable)) # Output: <class 'str'>"
   ]
  },
  {
   "cell_type": "code",
   "execution_count": 6,
   "id": "f815323d",
   "metadata": {},
   "outputs": [
    {
     "name": "stdout",
     "output_type": "stream",
     "text": [
      "Age:  25\n",
      "Height:  5.9\n",
      "Name:  Bob\n",
      "Is Student:  True\n"
     ]
    }
   ],
   "source": [
    "# decalring multiple variables\n",
    "\n",
    "age = 25  \n",
    "height = 5.9\n",
    "name = \"Bob\"\n",
    "is_student = True\n",
    "\n",
    "\n",
    "# Printing multiple variables\n",
    "print(\"Age: \",age)\n",
    "print(\"Height: \",height)\n",
    "print(\"Name: \",name)\n",
    "print(\"Is Student: \",is_student)  "
   ]
  },
  {
   "cell_type": "code",
   "execution_count": 7,
   "id": "71d4ce58",
   "metadata": {},
   "outputs": [
    {
     "name": "stdout",
     "output_type": "stream",
     "text": [
      "Age as string: 25\n",
      "<class 'str'>\n"
     ]
    }
   ],
   "source": [
    "#naming conventions\n",
    "# Valid variable names shoudl start with a letter or underscore, followed by letters, digits, or underscores and descriptive\n",
    "age_str = str(age)  # Convert age to string\n",
    "print(\"Age as string:\", age_str)\n",
    "print(type(age_str))  # Output: <class 'str'>"
   ]
  },
  {
   "cell_type": "code",
   "execution_count": 9,
   "id": "279652c2",
   "metadata": {},
   "outputs": [
    {
     "name": "stdout",
     "output_type": "stream",
     "text": [
      "<class 'int'>\n",
      "<class 'str'>\n"
     ]
    }
   ],
   "source": [
    "#python allows the type of a variable to change as the program runs\n",
    "# Example of changing variable type \n",
    "var = 42  # Initially an integer\n",
    "print(type(var))  # Output: <class 'int'>\n",
    "var = \"Now I'm a string\"  # Now a string\n",
    "print(type(var))  # Output: <class 'str'>  "
   ]
  },
  {
   "cell_type": "code",
   "execution_count": 11,
   "id": "5d906652",
   "metadata": {},
   "outputs": [
    {
     "name": "stdout",
     "output_type": "stream",
     "text": [
      "1 <class 'str'>\n"
     ]
    }
   ],
   "source": [
    "#input from user\n",
    "age = input(\"Enter your age: \")  # Input is always a string\n",
    "print(age,type(age))  # Output: <class 'str'>"
   ]
  },
  {
   "cell_type": "code",
   "execution_count": 12,
   "id": "62c27647",
   "metadata": {},
   "outputs": [
    {
     "name": "stdout",
     "output_type": "stream",
     "text": [
      "2 <class 'int'>\n"
     ]
    }
   ],
   "source": [
    "#for typecasting, we can convert the input to an integer\n",
    "age = int(input(\"Enter your age: \"))  # Convert input to integer\n",
    "print(age, type(age))  # Output: <class 'int'>"
   ]
  },
  {
   "cell_type": "code",
   "execution_count": 13,
   "id": "dbfe6d42",
   "metadata": {},
   "outputs": [
    {
     "name": "stdout",
     "output_type": "stream",
     "text": [
      "Sum: 9\n",
      "Division: 0.5\n",
      "Subtraction: -3\n",
      "Multiplication: 18\n"
     ]
    }
   ],
   "source": [
    "#Simpale Calculator\n",
    "number1 = int(input(\"Enter first number: \"))\n",
    "number2 = int(input(\"Enter second number: \"))\n",
    "sum = number1 + number2\n",
    "div = number1 / number2\n",
    "sub = number1 - number2\n",
    "mul = number1 * number2\n",
    "print(\"Sum:\", sum)\n",
    "print(\"Division:\", div) \n",
    "print(\"Subtraction:\", sub)\n",
    "print(\"Multiplication:\", mul)"
   ]
  },
  {
   "cell_type": "code",
   "execution_count": 16,
   "id": "1a90b21d",
   "metadata": {},
   "outputs": [
    {
     "name": "stdout",
     "output_type": "stream",
     "text": [
      "num1: <class 'int'>\n",
      "num2: <class 'float'>\n",
      "num3: <class 'complex'>\n",
      "str1: <class 'str'>\n",
      "list1: <class 'list'>\n",
      "tuple1: <class 'tuple'>\n",
      "range1: <class 'range'>\n",
      "dict1: <class 'dict'>\n",
      "set1: <class 'set'>\n",
      "frozenset1: <class 'frozenset'>\n",
      "bool1: <class 'bool'>\n",
      "bytes1: <class 'bytes'>\n",
      "bytearray1: <class 'bytearray'>\n",
      "memoryview1: <class 'memoryview'>\n",
      "none_type: <class 'NoneType'>\n"
     ]
    }
   ],
   "source": [
    "# Data Types\n",
    "# Python has several built-in data types  \n",
    "\n",
    "# Numeric Types\n",
    "\n",
    "# 1. Integer\n",
    "num1 = 10  # Integer\n",
    "# 2. Float\n",
    "num2 = 3.14  # Float\n",
    "# 3. Complex\n",
    "num3 = 2 + 3j  # Complex number\n",
    "\n",
    "# Sequence Types\n",
    "# 1. String\n",
    "str1 = \"Hello, World!\"  # String\n",
    "# 2. List\n",
    "list1 = [1, 2, 3, 4, 5]  # List\n",
    "# 3. Tuple\n",
    "tuple1 = (1, 2, 3, 4, 5)  # Tuple\n",
    "# 4. Range\n",
    "range1 = range(5)  # Range object\n",
    "\n",
    "# Mapping Type\n",
    "# 1. Dictionary\n",
    "dict1 = {\"name\": \"Alice\", \"age\": 30}  # Dictionary\n",
    "\n",
    "# Set Types\n",
    "# 1. Set\n",
    "set1 = {1, 2, 3, 4, 5}  # Set\n",
    "# 2. Frozenset\n",
    "frozenset1 = frozenset([1, 2, 3, 4, 5])  # Frozenset\n",
    "\n",
    "# Boolean Type\n",
    "bool1 = True  # Boolean\n",
    "\n",
    "# Binary Types\n",
    "# 1. Bytes\n",
    "bytes1 = b\"Hello\"  # Bytes\n",
    "# 2. Bytearray\n",
    "bytearray1 = bytearray(b\"Hello\")  # Bytearray\n",
    "# 3. Memoryview\n",
    "memoryview1 = memoryview(bytes1)  # Memoryview\n",
    "\n",
    "# None Type\n",
    "none_type = None  # NoneType\n",
    "\n",
    "# Printing the types\n",
    "print(\"num1:\", type(num1))  # <class 'int'>\n",
    "print(\"num2:\", type(num2))  # <class 'float'>\n",
    "print(\"num3:\", type(num3))  # <class 'complex'>\n",
    "\n",
    "print(\"str1:\", type(str1))  # <class 'str'>\n",
    "print(\"list1:\", type(list1))  # <class 'list'>\n",
    "print(\"tuple1:\", type(tuple1))  # <class 'tuple'>\n",
    "\n",
    "print(\"range1:\", type(range1))  # <class 'range'>\n",
    "print(\"dict1:\", type(dict1))  # <class 'dict'>\n",
    "print(\"set1:\", type(set1))  # <class 'set'>\n",
    "print(\"frozenset1:\", type(frozenset1))  # <class 'frozenset'>\n",
    "print(\"bool1:\", type(bool1))  # <class 'bool'>\n",
    "print(\"bytes1:\", type(bytes1))  # <class 'bytes'>   \n",
    "print(\"bytearray1:\", type(bytearray1))  # <class 'bytearray'>\n",
    "print(\"memoryview1:\", type(memoryview1))  # <class 'memoryview'>\n",
    "\n",
    "print(\"none_type:\", type(none_type))  # <class 'NoneType'>\n",
    "\n"
   ]
  },
  {
   "cell_type": "code",
   "execution_count": 17,
   "id": "21fee4f8",
   "metadata": {},
   "outputs": [
    {
     "name": "stdout",
     "output_type": "stream",
     "text": [
      "Integer to Float: 42.0 <class 'float'>\n",
      "Float to Integer: 3 <class 'int'>\n",
      "String to Integer: 100 <class 'int'>\n",
      "String to Float: 3.14 <class 'float'>\n",
      "Integer to String: 42 <class 'str'>\n",
      "Float to String: 3.14 <class 'str'>\n",
      "List to Tuple: (1, 2, 3) <class 'tuple'>\n",
      "Tuple to List: [1, 2, 3] <class 'list'>\n",
      "List to Set: {1, 2, 3} <class 'set'>\n",
      "Set to List: [1, 2, 3] <class 'list'>\n",
      "Dictionary to List of Tuples: [('a', 1), ('b', 2)] <class 'list'>\n",
      "List of Tuples to Dictionary: {'a': 1, 'b': 2} <class 'dict'>\n",
      "String to List: ['H', 'e', 'l', 'l', 'o'] <class 'list'>\n",
      "List to String: Hello <class 'str'>\n",
      "String to Set: {'o', 'H', 'e', 'l'} <class 'set'>\n",
      "Set to String: oHel <class 'str'>\n",
      "String to Dictionary: {'name': 'Alice', 'age': 30} <class 'dict'>\n",
      "Dictionary to String: {\"name\": \"Alice\", \"age\": 30} <class 'str'>\n",
      "Bytes to String: Hello <class 'str'>\n",
      "String to Bytes: b'Hello' <class 'bytes'>\n",
      "Bytearray to Bytes: b'Hello' <class 'bytes'>\n",
      "Bytes to Bytearray: bytearray(b'Hello') <class 'bytearray'>\n",
      "Memoryview to Bytes: b'Hello' <class 'bytes'>\n",
      "Bytes to Memoryview: <memory at 0x000001AF4B2A5B40> <class 'memoryview'>\n"
     ]
    }
   ],
   "source": [
    "# Type Conversion\n",
    "# Converting between data types\n",
    "# 1. Integer to Float\n",
    "int_num = 42\n",
    "float_num = float(int_num)  # Convert integer to float\n",
    "print(\"Integer to Float:\", float_num, type(float_num))  # Output: <class 'float'>\n",
    "# 2. Float to Integer   \n",
    "\n",
    "float_num = 3.14\n",
    "int_num = int(float_num)  # Convert float to integer  \n",
    "print(\"Float to Integer:\", int_num, type(int_num))  # Output: <class 'int'>\n",
    "# 3. String to Integer\n",
    "str_num = \"100\"\n",
    "int_num = int(str_num)  # Convert string to integer\n",
    "print(\"String to Integer:\", int_num, type(int_num))  # Output: <class 'int'>\n",
    "# 4. String to Float\n",
    "str_num = \"3.14\"\n",
    "float_num = float(str_num)  # Convert string to float\n",
    "\n",
    "\n",
    "\n",
    "print(\"String to Float:\", float_num, type(float_num))  # Output: <class 'float'>\n",
    "# 5. Integer to String\n",
    "int_num = 42\n",
    "str_num = str(int_num)  # Convert integer to string\n",
    "print(\"Integer to String:\", str_num, type(str_num))  # Output: <class 'str'>\n",
    "# 6. Float to String\n",
    "float_num = 3.14\n",
    "str_num = str(float_num)  # Convert float to string\n",
    "print(\"Float to String:\", str_num, type(str_num))  # Output: <class 'str'>\n",
    "# 7. List to Tuple\n",
    "list_num = [1, 2, 3]\n",
    "tuple_num = tuple(list_num)  # Convert list to tuple\n",
    "print(\"List to Tuple:\", tuple_num, type(tuple_num))  # Output: <class 'tuple'>\n",
    "# 8. Tuple to List\n",
    "tuple_num = (1, 2, 3)\n",
    "list_num = list(tuple_num)  # Convert tuple to list\n",
    "print(\"Tuple to List:\", list_num, type(list_num))  # Output: <class 'list'>\n",
    "# 9. List to Set\n",
    "set_num = set(list_num)  # Convert list to set\n",
    "print(\"List to Set:\", set_num, type(set_num))  # Output: <class 'set'>\n",
    "# 10. Set to List\n",
    "set_num = {1, 2, 3}\n",
    "list_num = list(set_num)  # Convert set to list\n",
    "print(\"Set to List:\", list_num, type(list_num))  # Output: <class 'list'>\n",
    "# 11. Dictionary to List of Tuples\n",
    "dict_num = {\"a\": 1, \"b\": 2}\n",
    "list_of_tuples = list(dict_num.items())  # Convert dictionary to list of tuples\n",
    "print(\"Dictionary to List of Tuples:\", list_of_tuples, type(list_of_tuples))  # Output: <class 'list'>\n",
    "# 12. List of Tuples to Dictionary\n",
    "list_of_tuples = [(\"a\", 1), (\"b\", 2)]\n",
    "dict_num = dict(list_of_tuples)  # Convert list of tuples to dictionary\n",
    "print(\"List of Tuples to Dictionary:\", dict_num, type(dict_num))  # Output: <class 'dict'>\n",
    "# 13. String to List\n",
    "str_num = \"Hello\"\n",
    "list_num = list(str_num)  # Convert string to list of characters\n",
    "print(\"String to List:\", list_num, type(list_num))  # Output: <class 'list'>\n",
    "# 14. List to String\n",
    "list_num = ['H', 'e', 'l', 'l', 'o']\n",
    "str_num = ''.join(list_num)  # Convert list of characters to string\n",
    "print(\"List to String:\", str_num, type(str_num))  # Output: <class 'str'>\n",
    "# 15. String to Set\n",
    "str_num = \"Hello\"\n",
    "set_num = set(str_num)  # Convert string to set of characters\n",
    "print(\"String to Set:\", set_num, type(set_num))  # Output: <class 'set'>\n",
    "# 16. Set to String\n",
    "set_num = {'H', 'e', 'l', 'o'}\n",
    "str_num = ''.join(set_num)  # Convert set to string\n",
    "print(\"Set to String:\", str_num, type(str_num))  # Output: <class 'str'>\n",
    "# 17. String to Dictionary (using JSON)\n",
    "import json\n",
    "str_num = '{\"name\": \"Alice\", \"age\": 30}'\n",
    "dict_num = json.loads(str_num)  # Convert JSON string to dictionary\n",
    "\n",
    "print(\"String to Dictionary:\", dict_num, type(dict_num))  # Output: <class 'dict'>\n",
    "# 18. Dictionary to String (using JSON)\n",
    "dict_num = {\"name\": \"Alice\", \"age\": 30}\n",
    "str_num = json.dumps(dict_num)  # Convert dictionary to JSON string\n",
    "print(\"Dictionary to String:\", str_num, type(str_num))  # Output: <class 'str'>\n",
    "# 19. Bytes to String\n",
    "bytes_num = b\"Hello\"\n",
    "\n",
    "\n",
    "str_num = bytes_num.decode('utf-8')  # Convert bytes to string\n",
    "print(\"Bytes to String:\", str_num, type(str_num))  # Output: <class 'str'>\n",
    "# 20. String to Bytes\n",
    "str_num = \"Hello\"\n",
    "\n",
    "bytes_num = str_num.encode('utf-8')  # Convert string to bytes\n",
    "print(\"String to Bytes:\", bytes_num, type(bytes_num))  # Output: <class 'bytes'>\n",
    "# 21. Bytearray to Bytes\n",
    "bytearray_num = bytearray(b\"Hello\")\n",
    "\n",
    "\n",
    "\n",
    "bytes_num = bytes(bytearray_num)  # Convert bytearray to bytes\n",
    "print(\"Bytearray to Bytes:\", bytes_num, type(bytes_num))  # Output: <class 'bytes'>\n",
    "# 22. Bytes to Bytearray\n",
    "bytes_num = b\"Hello\"\n",
    "bytearray_num = bytearray(bytes_num)  # Convert bytes to bytearray\n",
    "\n",
    "\n",
    "print(\"Bytes to Bytearray:\", bytearray_num, type(bytearray_num))  # Output: <class 'bytearray'>\n",
    "# 23. Memoryview to Bytes\n",
    "memoryview_num = memoryview(bytes_num)  # Create a memoryview from bytes\n",
    "bytes_num = bytes(memoryview_num)  # Convert memoryview back to bytes\n",
    "print(\"Memoryview to Bytes:\", bytes_num, type(bytes_num))  # Output: <class 'bytes'>\n",
    "# 24. Bytes to Memoryview\n",
    "memoryview_num = memoryview(bytes_num)  # Create a memoryview from bytes\n",
    "print(\"Bytes to Memoryview:\", memoryview_num, type(memoryview_num))  # Output: <class 'memoryview'>\n"
   ]
  },
  {
   "cell_type": "code",
   "execution_count": null,
   "id": "0d03d8ad",
   "metadata": {},
   "outputs": [],
   "source": []
  }
 ],
 "metadata": {
  "kernelspec": {
   "display_name": "Python 3",
   "language": "python",
   "name": "python3"
  },
  "language_info": {
   "codemirror_mode": {
    "name": "ipython",
    "version": 3
   },
   "file_extension": ".py",
   "mimetype": "text/x-python",
   "name": "python",
   "nbconvert_exporter": "python",
   "pygments_lexer": "ipython3",
   "version": "3.12.0"
  }
 },
 "nbformat": 4,
 "nbformat_minor": 5
}
